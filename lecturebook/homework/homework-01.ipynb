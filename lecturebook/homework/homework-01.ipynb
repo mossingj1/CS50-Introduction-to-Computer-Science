{
  "cells": [
    {
      "cell_type": "markdown",
      "metadata": {
        "id": "XIRIvcv0_7ZH"
      },
      "source": [
        "# Homework 1\n",
        "\n",
        "## References\n",
        "\n",
        "+ Lectures 1 through 4 (inclusive).\n",
        "\n",
        "\n",
        "## Instructions\n",
        "\n",
        "+ Type your name and email in the \"Student details\" section below.\n",
        "+ Develop the code and generate the figures you need to solve the problems using this notebook.\n",
        "+ For the answers that require a mathematical proof or derivation you should type them using latex. If you have never written latex before and you find it exceedingly difficult, we will likely accept handwritten solutions.\n",
        "+ The total homework points are 100. Please note that the problems are not weighed equally."
      ]
    },
    {
      "cell_type": "code",
      "execution_count": null,
      "metadata": {
        "tags": [
          "hide-input"
        ],
        "id": "_lSvA8SG_7ZJ"
      },
      "outputs": [],
      "source": [
        "MAKE_BOOK_FIGURES=Trueimport numpy as npimport scipy.stats as stimport matplotlib as mplimport matplotlib.pyplot as plt%matplotlib inlineimport matplotlib_inlinematplotlib_inline.backend_inline.set_matplotlib_formats('svg')import seaborn as snssns.set_context(\"paper\")sns.set_style(\"ticks\")def set_book_style():    plt.style.use('seaborn-v0_8-white')     sns.set_style(\"ticks\")    sns.set_palette(\"deep\")    mpl.rcParams.update({        # Font settings        'font.family': 'serif',  # For academic publishing        'font.size': 8,  # As requested, 10pt font        'axes.labelsize': 8,        'axes.titlesize': 8,        'xtick.labelsize': 7,  # Slightly smaller for better readability        'ytick.labelsize': 7,        'legend.fontsize': 7,                # Line and marker settings for consistency        'axes.linewidth': 0.5,        'grid.linewidth': 0.5,        'lines.linewidth': 1.0,        'lines.markersize': 4,                # Layout to prevent clipped labels        'figure.constrained_layout.use': True,                # Default DPI (will override when saving)        'figure.dpi': 600,        'savefig.dpi': 600,                # Despine - remove top and right spines        'axes.spines.top': False,        'axes.spines.right': False,                # Remove legend frame        'legend.frameon': False,                # Additional trim settings        'figure.autolayout': True,  # Alternative to constrained_layout        'savefig.bbox': 'tight',    # Trim when saving        'savefig.pad_inches': 0.1   # Small padding to ensure nothing gets cut off    })def set_notebook_style():    plt.style.use('seaborn-v0_8-white')    sns.set_style(\"ticks\")    sns.set_palette(\"deep\")    mpl.rcParams.update({        # Font settings - using default sizes        'font.family': 'serif',        'axes.labelsize': 10,        'axes.titlesize': 10,        'xtick.labelsize': 9,        'ytick.labelsize': 9,        'legend.fontsize': 9,                # Line and marker settings        'axes.linewidth': 0.5,        'grid.linewidth': 0.5,        'lines.linewidth': 1.0,        'lines.markersize': 4,                # Layout settings        'figure.constrained_layout.use': True,                # Remove only top and right spines        'axes.spines.top': False,        'axes.spines.right': False,                # Remove legend frame        'legend.frameon': False,                # Additional settings        'figure.autolayout': True,        'savefig.bbox': 'tight',        'savefig.pad_inches': 0.1    })def save_for_book(fig, filename, is_vector=True, **kwargs):    \"\"\"    Save a figure with book-optimized settings.        Parameters:    -----------    fig : matplotlib figure        The figure to save    filename : str        Filename without extension    is_vector : bool        If True, saves as vector at 1000 dpi. If False, saves as raster at 600 dpi.    **kwargs : dict        Additional kwargs to pass to savefig    \"\"\"        # Set appropriate DPI and format based on figure type    if is_vector:        dpi = 1000        ext = '.pdf'    else:        dpi = 600        ext = '.tif'        # Save the figure with book settings    fig.savefig(f\"{filename}{ext}\", dpi=dpi, **kwargs)def make_full_width_fig():    return plt.subplots(figsize=(4.7, 2.9), constrained_layout=True)def make_half_width_fig():    return plt.subplots(figsize=(2.35, 1.45), constrained_layout=True)if MAKE_BOOK_FIGURES:    set_book_style()else:    set_notebook_style()make_full_width_fig = make_full_width_fig if MAKE_BOOK_FIGURES else lambda: plt.subplots()make_half_width_fig = make_half_width_fig if MAKE_BOOK_FIGURES else lambda: plt.subplots()"
      ]
    },
    {
      "cell_type": "markdown",
      "metadata": {
        "id": "gUHM1WUm_7ZK"
      },
      "source": [
        "## Student details\n",
        "\n",
        "+ **First Name:** Joe\n",
        "+ **Last Name:** Mossing\n",
        "+ **Email:** jmossin@purdue.edu\n",
        "+ **Used generative AI to complete this assignment (Yes/No):**\n",
        "+ **Which generative AI tool did you use (if applicable)?:**"
      ]
    },
    {
      "cell_type": "markdown",
      "metadata": {
        "id": "2nT_vz3d_7ZK"
      },
      "source": [
        "## Problem 1\n",
        "\n",
        "Disclaimer: This example is a modified version of the one found in a 2013 lecture on Bayesian Scientific Computing taught by Prof. Nicholas Zabaras.\n",
        "I am not sure where the original problem is coming from.\n",
        "\n",
        "We are tasked with assessing the usefulness of a tuberculosis test.\n",
        "The prior information I is:\n",
        "\n",
        "> The percentage of the population infected by tuberculosis is 0.4\\%.\n",
        "We have run several experiments and determined that:\n",
        "+ If a tested patient has the disease, then 80\\% of the time the test comes out positive.\n",
        "+ If a tested patient does not have the disease, then 90\\% of the time the test comes out negative.\n",
        "\n",
        "To facilitate your analysis, consider the following logical sentences concerning a patient:\n",
        "\n",
        "> A: The patient is tested and the test is positive.\n",
        "\n",
        "> B: The patient has tuberculosis.\n",
        "\n",
        "A. Find the probability that the patient has tuberculosis (before looking at the result of the test), i.e., $p(B|I)$. This is known as the base rate or the prior probability.<br>\n",
        "\n",
        "**Given**\n",
        "- $p(A|B,I)=0.8$\n",
        "- $p(\\neg A|\\neg B,I)=0.90$\n",
        "- $p(B|I)=0.004$\n",
        "\n",
        "**Answer:**\n",
        "The base rate is directly given; $p(B|I)=0.004$\n",
        "\n",
        "<br><br><br><br><br><br><br><br><br>\n"
      ]
    },
    {
      "cell_type": "markdown",
      "metadata": {
        "id": "vJ-Gszdm_7ZK"
      },
      "source": [
        "B. Find the probability that the test is positive given that the patient has tuberculosis, i.e., $p(A|B,I)$.<br>\n",
        "**Answer:**\n",
        "This is also given; $p(A|B,I)=0.8$\n",
        "<br><br><br><br><br><br><br><br><br>"
      ]
    },
    {
      "cell_type": "markdown",
      "metadata": {
        "id": "mv9QbQzA_7ZK"
      },
      "source": [
        "C. Find the probability that the test is positive given that the patient does not have tuberculosis, i.e., $p(A|\\neg B, I)$.<br>\n",
        "**Answer:**\n",
        "$$\n",
        "\\begin{align*}\n",
        "p(A|\\neg B,I) &= 1-p(\\neg A|B)\\\\\n",
        "&= 1-0.9=0.1 \\\\\n",
        "p(A|\\neg B,I) &= 0.1 \\\\\n",
        "\\end{align*}\n",
        "$$\n",
        "<br><br><br><br><br><br><br><br><br>\n"
      ]
    },
    {
      "cell_type": "markdown",
      "metadata": {
        "id": "u6yA2MHL_7ZK"
      },
      "source": [
        "D. Find the probability that a patient that tested positive has tuberculosis, i.e., $p(B|A,I)$.<br>\n",
        "**Answer:**\n",
        "$$\n",
        "\\begin{align*}\n",
        "p(B|A,I) &= \\dfrac{p(A|B)p(B)}{p(A)}\\\\\n",
        "&= \\dfrac{(0.8)(0.004)}{p(A)} \\\\\n",
        "&p(A)=\\sum p(A|B)p(B)+p(A|\\neg B)p(\\neg B) \\\\\n",
        "&p(A) = 0.80(0.004)+(0.1)(1-0.004) \\\\\n",
        "&p(A) = 0.1028 \\\\\n",
        "p(B|A,I) &= \\dfrac{(0.8)(0.004)}{0.1028} \\\\\n",
        "p(B|A,I) &= 0.031\\\\\n",
        "\\end{align*}\n",
        "$$\n",
        "<br><br><br><br><br><br><br><br>"
      ]
    },
    {
      "cell_type": "code",
      "source": [
        "pa = (0.8*0.004)+(0.1*(1-0.004))\n",
        "print(pa)\n",
        "pab = (0.8*0.004)/pa\n",
        "print(pab)"
      ],
      "metadata": {
        "colab": {
          "base_uri": "https://localhost:8080/"
        },
        "id": "c6ImQJKJOqXG",
        "outputId": "f25506bf-4e93-4ae3-8ff2-ba8fa36af66f"
      },
      "execution_count": null,
      "outputs": [
        {
          "output_type": "stream",
          "name": "stdout",
          "text": [
            "0.1028\n",
            "0.0311284046692607\n"
          ]
        }
      ]
    },
    {
      "cell_type": "markdown",
      "metadata": {
        "id": "AFu_g7OO_7ZL"
      },
      "source": [
        "E. Find the probability that a patient that tested negative has tuberculosis, i.e., $p(B|\\neg A, I)$. Does the test change our prior state of knowledge about about the patient? Is the test useful?<br>\n",
        "**Answer:**\n",
        "$$\n",
        "\\begin{align*}\n",
        "p(B|\\neg A,I) &= \\dfrac{p((\\neg A|B)p(B)}{p(\\neg A)}\\\\\n",
        "&= \\dfrac{(1-p(A|B)p(B))}{(1-p(A))} \\\\\n",
        "&= \\dfrac{(1-0.8)(0.004)}{(1-.1028)} \\\\\n",
        "p(B|\\neg A,I) &= 0.00089\n",
        "\\end{align*}\n",
        "$$\n",
        "\n",
        "<br><br><br><br><br><br><br><br>"
      ]
    },
    {
      "cell_type": "code",
      "source": [
        "prob_b_given_nega = (1-.8)*(0.004)/(1-.1028)\n",
        "print(prob_b_given_nega)"
      ],
      "metadata": {
        "colab": {
          "base_uri": "https://localhost:8080/"
        },
        "id": "tmybpAC1SnPf",
        "outputId": "dcc3fe15-c725-4311-d9ec-69f9b987a353"
      },
      "execution_count": null,
      "outputs": [
        {
          "output_type": "stream",
          "name": "stdout",
          "text": [
            "0.0008916629514043689\n"
          ]
        }
      ]
    },
    {
      "cell_type": "markdown",
      "metadata": {
        "id": "V_nvx4Lu_7ZL"
      },
      "source": [
        "F. What would a good test look like? Find values for\n",
        "\n",
        "$$\n",
        "p(A|B,I)= p(\\text{test is positive} |\\text{has tuberculosis},I),\n",
        "$$\n",
        "\n",
        "and\n",
        "\n",
        "$$\n",
        "p(A| \\neg B, I) = p(\\text{test is positive}|\\text{does not have tuberculosis}, I),\n",
        "$$\n",
        "\n",
        "so that\n",
        "\n",
        "$$\n",
        "p(B|A, I) = p(\\text{has tuberculosis}|\\text{test is positive}, I) = 0.99.\n",
        "$$\n",
        "\n",
        "There are more than one solutions. How would you pick a good one? Thinking in this way can help you set goals if you work in R\\&D. If you have time, try to figure out whether or not there exists such an accurate test for tuberculosis<br>\n",
        "**Answer:**\n",
        "<br><br><br><br><br><br><br><br><br>"
      ]
    },
    {
      "cell_type": "markdown",
      "metadata": {
        "id": "54gxf0qA_7ZL"
      },
      "source": [
        "## Problem 2 - Practice with discrete random variables\n",
        "\n",
        "Consider the Categorical random variable:\n",
        "\n",
        "$$\n",
        "X \\sim \\operatorname{Categorical}(0.3, 0.1, 0.2, 0.4),\n",
        "$$\n",
        "\n",
        "taking values in $\\{0,1,2,3\\}$. Find the following (you may use ``scipy.stats.rv_discrete`` or do it by hand):"
      ]
    },
    {
      "cell_type": "markdown",
      "metadata": {
        "id": "hRQN4z3q_7ZL"
      },
      "source": [
        "A. The expectation $\\mathbb{E}[X]$.\n",
        "\n",
        "**Answer:**\n",
        "$$\n",
        "\\begin{align*}\n",
        "\\mathbb{E}[X]&=\\sum_x xp(x) \\\\\n",
        "&=(0)(0.3)+(1)(0.1)+(2)(0.2)+(3)(0.4) \\\\\n",
        "\\mathbb{E}[X]&=1.7 \\\\\n",
        "\\end{align*}\n",
        "$$\n",
        "<br><br>"
      ]
    },
    {
      "cell_type": "code",
      "execution_count": 20,
      "metadata": {
        "colab": {
          "base_uri": "https://localhost:8080/"
        },
        "id": "dUO4zDdl_7ZL",
        "outputId": "ebe4ed7f-105f-4623-8dc9-a3e5e913ae25"
      },
      "outputs": [
        {
          "output_type": "stream",
          "name": "stdout",
          "text": [
            "Manual: 1.70\n",
            " Scipy: 1.70\n"
          ]
        }
      ],
      "source": [
        "# You can also answer with code here:\n",
        "import numpy as np\n",
        "import scipy.stats as st\n",
        "x_vals = np.array([0, 1, 2, 3])\n",
        "p_vals = np.array([0.3, 0.1, 0.2, 0.4])\n",
        "\n",
        "E = np.sum(x_vals*p_vals)\n",
        "print(f\"Manual: {E:.2f}\")\n",
        "\n",
        "X = st.rv_discrete(name=\"Custom Categorical\", values=(x_vals, p_vals))\n",
        "print(f\" Scipy: {X.expect():.2f}\")"
      ]
    },
    {
      "cell_type": "markdown",
      "metadata": {
        "id": "CeQm6Sqx_7ZL"
      },
      "source": [
        "B. The variance $\\mathbb{V}[X]$.\n",
        "\n",
        "**Answer:**\n",
        "<br><br>"
      ]
    },
    {
      "cell_type": "markdown",
      "source": [
        "$$\n",
        "\\begin{align*}\n",
        "\\mathbb{V}&=\\mathbb{E[X^2}]-\\mathbb{E}[X]^2\\\\\n",
        "&=(0^2)(0.3)+(1^2)(0.1)+(2^2)(0.2)+(3^2)(0.4))-1.7^2 \\\\\n",
        "&= 4.5-1.7^2 \\\\\n",
        "\\mathbb{V}[X] &= 1.61\n",
        "\\end{align*}\n",
        "$$"
      ],
      "metadata": {
        "id": "58kclDBR62kg"
      }
    },
    {
      "cell_type": "code",
      "execution_count": 21,
      "metadata": {
        "colab": {
          "base_uri": "https://localhost:8080/"
        },
        "id": "ny4sUTBY_7ZL",
        "outputId": "ce75892d-b215-4ef7-e837-6f7352ae8bed"
      },
      "outputs": [
        {
          "output_type": "stream",
          "name": "stdout",
          "text": [
            "E[X^2]: 4.5\n",
            "V: 1.6100000000000003:0.2f\n",
            "Manual: 1.61\n",
            "Scipy: 1.61\n"
          ]
        }
      ],
      "source": [
        "# You can also answer with code here:\n",
        "print(f\"E[X^2]: {0.1+4*0.2+9*.4}\")\n",
        "print(f\"V: {4.5-1.7**2}:0.2f\")\n",
        "x_vals = np.array([0, 1, 2, 3])\n",
        "x2_vals = x_vals**2\n",
        "p_vals = np.array([0.3, 0.1, 0.2, 0.4])\n",
        "\n",
        "V = np.sum(x2_vals*p_vals)-E**2\n",
        "\n",
        "print(f\"Manual: {V:.2f}\")\n",
        "\n",
        "X = st.rv_discrete(values=(x_vals, p_vals))\n",
        "print(f\"Scipy: {X.var():0.2f}\")\n",
        "\n"
      ]
    },
    {
      "cell_type": "markdown",
      "metadata": {
        "id": "e-YpSFVO_7ZL"
      },
      "source": [
        "C. Plot the probability mass function of $X$."
      ]
    },
    {
      "cell_type": "code",
      "execution_count": 22,
      "metadata": {
        "id": "gh1fZXPp_7ZM",
        "outputId": "5d911633-de02-4ac6-faa5-65d7b3b652e1",
        "colab": {
          "base_uri": "https://localhost:8080/",
          "height": 466
        }
      },
      "outputs": [
        {
          "output_type": "execute_result",
          "data": {
            "text/plain": [
              "Text(0, 0.5, 'p(x)')"
            ]
          },
          "metadata": {},
          "execution_count": 22
        },
        {
          "output_type": "display_data",
          "data": {
            "text/plain": [
              "<Figure size 640x480 with 1 Axes>"
            ],
            "image/png": "[encoded data removed]"
          },
          "metadata": {}
        }
      ],
      "source": [
        "# Your code here. Hint: use a bar plot\n",
        "import matplotlib.pyplot as plt\n",
        "\n",
        "fig, ax = plt.subplots()\n",
        "ax.bar(x_vals, X.pmf(x_vals))\n",
        "ax.set_xlabel('x')\n",
        "ax.set_ylabel('p(x)')\n",
        "# sns.despine(trim=True);"
      ]
    },
    {
      "cell_type": "markdown",
      "metadata": {
        "id": "5qq4Y9EN_7ZM"
      },
      "source": [
        "D. Find the probability that $X$ is in $\\{0, 2\\}$.\n",
        "\n",
        "**Answer:**\n",
        "$$\n",
        "p(x \\in 0,2) p(0)+p(2) = 0.3+0.2 \\\\\n",
        "=0.5\n",
        "$$\n",
        "<br><br>"
      ]
    },
    {
      "cell_type": "code",
      "execution_count": 24,
      "metadata": {
        "id": "CE571agu_7ZM",
        "outputId": "7365a56c-a113-4def-d7b1-bb438a81530c",
        "colab": {
          "base_uri": "https://localhost:8080/"
        }
      },
      "outputs": [
        {
          "output_type": "stream",
          "name": "stdout",
          "text": [
            "Scipy: 0.5\n"
          ]
        }
      ],
      "source": [
        "# You can also answer with code here:\n",
        "print(f\"Scipy: {X.pmf(0)+X.pmf(2)}\")"
      ]
    },
    {
      "cell_type": "markdown",
      "metadata": {
        "id": "0Qzh6HTy_7ZM"
      },
      "source": [
        "E. Find $\\mathbb{E}[4X + 3]$.\n",
        "\n",
        "**Answer:**\n",
        "$$\n",
        "\\begin{align*}\n",
        "\\mathbb{E}[4X+3] &= 4\\mathbb{E}[X]+3\\\\\n",
        "&= (4)1.7+3\\\\\n",
        "&=9.8\n",
        "\\end{align*}\n",
        "$$\n",
        "<br><br>"
      ]
    },
    {
      "cell_type": "code",
      "execution_count": 25,
      "metadata": {
        "id": "d6xmRvoJ_7ZM",
        "outputId": "12806e32-29b6-4a5a-d0d4-9965bb0831cb",
        "colab": {
          "base_uri": "https://localhost:8080/"
        }
      },
      "outputs": [
        {
          "output_type": "stream",
          "name": "stdout",
          "text": [
            "Manual: 9.8\n",
            "Scipy: 9.8\n"
          ]
        }
      ],
      "source": [
        "# You can also answer with code here:\n",
        "print(f\"Manual: {4*1.7+3}\")\n",
        "print(f\"Scipy: {X.expect()*4+3}\")"
      ]
    },
    {
      "cell_type": "markdown",
      "metadata": {
        "id": "gz1iAvV-_7ZM"
      },
      "source": [
        "F. Find $\\mathbb{V}[4X+3]$.\n",
        "$$\n",
        "\\begin{align*}\n",
        "\\mathbb{V}[4X+3] &= 4^2\\mathbb{V}\\\\\n",
        "&=(4^2)1.61\n",
        "&=25.76\n",
        "\\end{align*}\n",
        "$$\n",
        "**Answer:**\n",
        "<br><br>"
      ]
    },
    {
      "cell_type": "code",
      "execution_count": 28,
      "metadata": {
        "id": "kKKD8K8K_7ZM",
        "outputId": "91247b15-7458-48e7-fc27-02b0da2b4fbd",
        "colab": {
          "base_uri": "https://localhost:8080/"
        }
      },
      "outputs": [
        {
          "output_type": "stream",
          "name": "stdout",
          "text": [
            "Manual: 25.76\n",
            "Scipy: 25.76\n"
          ]
        }
      ],
      "source": [
        "# You can also answer with code here:\n",
        "print(f\"Manual: {(4**2)*1.61}\")\n",
        "print(f\"Scipy: {X.var()*4**2:.2f}\")"
      ]
    },
    {
      "cell_type": "markdown",
      "metadata": {
        "id": "ukvGyUZi_7ZM"
      },
      "source": [
        "## Problem 3 - Predicting the probability of major earthquakes in Southern California\n",
        "\n",
        "The [San Andreas fault](https://en.wikipedia.org/wiki/San_Andreas_Fault) extends through California forming the boundary between the Pacific and the North American tectonic plates.\n",
        "It has caused some of the major earthquakes on Earth.\n",
        "We are going to focus on Southern California and we would like to assess the probability of a major earthquake, defined as an earthquake of magnitude 6.5 or greater, during the next ten years.\n",
        "\n",
        "A. The first thing we are going to do is go over a [database of past earthquakes](https://scedc.caltech.edu/significant/chron-index.html) that have occured in Southern California and collect the relevant data. We are going to start at 1900 because data before that time may are unreliable.\n",
        "Go over each decade and count the occurence of a major earthquake (i.e., count the number of organge and red colors in each decade). We have done this for you."
      ]
    },
    {
      "cell_type": "code",
      "execution_count": 30,
      "metadata": {
        "id": "INkv0vEN_7ZM",
        "outputId": "e48a1c07-caff-4a96-9cce-3fd43a9a8a75",
        "colab": {
          "base_uri": "https://localhost:8080/",
          "height": 703
        }
      },
      "outputs": [
        {
          "output_type": "stream",
          "name": "stderr",
          "text": [
            "/tmp/ipython-input-3667772713.py:19: UserWarning: No artists with labels found to put in legend.  Note that artists whose label start with an underscore are ignored when legend() is called with no argument.\n",
            "  plt.legend(loc=\"best\", frameon=False)\n"
          ]
        },
        {
          "output_type": "execute_result",
          "data": {
            "text/plain": [
              "<matplotlib.legend.Legend at 0x7d164cf57a40>"
            ]
          },
          "metadata": {},
          "execution_count": 30
        },
        {
          "output_type": "display_data",
          "data": {
            "text/plain": [
              "<Figure size 960x720 with 1 Axes>"
            ],
            "image/png": "[encoded data removed]"
          },
          "metadata": {}
        }
      ],
      "source": [
        "eq_data = np.array([\n",
        "    0, # 1900-1909\n",
        "    1, # 1910-1919\n",
        "    2, # 1920-1929\n",
        "    0, # 1930-1939\n",
        "    3, # 1940-1949\n",
        "    2, # 1950-1959\n",
        "    1, # 1960-1969\n",
        "    2, # 1970-1979\n",
        "    1, # 1980-1989\n",
        "    4, # 1990-1999\n",
        "    0, # 2000-2009\n",
        "    2 # 2010-2019\n",
        "])\n",
        "fig, ax = plt.subplots(dpi=150)\n",
        "ax.bar(np.linspace(1900, 2019, eq_data.shape[0]), eq_data, width=10)\n",
        "ax.set_xlabel('Decade')\n",
        "ax.set_ylabel('# of major earthquakes in Southern CA')\n",
        "plt.legend(loc=\"best\", frameon=False)\n",
        "# sns.despine(trim=True);"
      ]
    },
    {
      "cell_type": "markdown",
      "metadata": {
        "id": "-FrogkZj_7ZM"
      },
      "source": [
        "B. The [Poisson distribution](https://en.wikipedia.org/wiki/Poisson_distribution) is a discrete distribution with values $\\{0,1,2,\\dots\\}$ which is commonly used to model the number of events occuring in a certain time period.\n",
        "It is the right choice when these events are happening independently and the probability of any event happening over a small period of time is constant.\n",
        "Let's use the Poisson to model the number of earthquakes $X$ occuring in a decade.\n",
        "We write:\n",
        "\n",
        "$$\n",
        "X \\sim \\operatorname{Poisson}(r),\n",
        "$$\n",
        "\n",
        "where $r$ is the *rate parameter* of Poisson.\n",
        "The rate is the number of events per time period.\n",
        "Here, $r$ is the number of earthquakes per decade.\n",
        "Using the data above, we can set the rate as the empirical average of the observed number of earthquakes per decade:"
      ]
    },
    {
      "cell_type": "code",
      "execution_count": 32,
      "metadata": {
        "id": "Z7wF0gdo_7ZM",
        "outputId": "11b6c264-65d9-4d59-fb04-eedd12466cda",
        "colab": {
          "base_uri": "https://localhost:8080/"
        }
      },
      "outputs": [
        {
          "output_type": "stream",
          "name": "stdout",
          "text": [
            "r = 1.50 major earthquakes per decade\n"
          ]
        }
      ],
      "source": [
        "r = np.mean(eq_data)\n",
        "print('r = {0:1.2f} major earthquakes per decade'.format(r))"
      ]
    },
    {
      "cell_type": "markdown",
      "metadata": {
        "id": "7ZVz_6o4_7ZM"
      },
      "source": [
        "Strictly speaking, **this is not how you should be calibrating models!!!**\n",
        "We will learn about the **right** way (which uses Bayes' rule) in the subsequent lectures.\n",
        "But it will do for now as the answer you would get using the **right** way is, for this problem, almost the same.\n",
        "Let's define a Poisson distribution using ``scipy.stats.poisson`` (see documentation [here](https://docs.scipy.org/doc/scipy/reference/generated/scipy.stats.poisson.html)):"
      ]
    },
    {
      "cell_type": "code",
      "execution_count": 33,
      "metadata": {
        "id": "km7sth2k_7ZN"
      },
      "outputs": [],
      "source": [
        "X = st.poisson(r)"
      ]
    },
    {
      "cell_type": "markdown",
      "metadata": {
        "id": "8OO47_4k_7ZN"
      },
      "source": [
        "A. Plot the probability mass function of ``X``."
      ]
    },
    {
      "cell_type": "code",
      "execution_count": 44,
      "metadata": {
        "id": "55KEPga1_7ZN",
        "outputId": "0d98882e-5823-4a79-903e-8f41172a0e83",
        "colab": {
          "base_uri": "https://localhost:8080/",
          "height": 470
        }
      },
      "outputs": [
        {
          "output_type": "execute_result",
          "data": {
            "text/plain": [
              "Text(0, 0.5, 'Probability of occurrence')"
            ]
          },
          "metadata": {},
          "execution_count": 44
        },
        {
          "output_type": "display_data",
          "data": {
            "text/plain": [
              "<Figure size 640x480 with 1 Axes>"
            ],
            "image/png": "[encoded data removed]"
          },
          "metadata": {}
        }
      ],
      "source": [
        "# Your code here\n",
        "from matplotlib.ticker import MultipleLocator\n",
        "fig, ax = plt.subplots()\n",
        "# ax.bar(x_vals, X.pmf(x_vals))\n",
        "ks = range(6)\n",
        "ax.bar(ks, X.pmf(ks))\n",
        "# Show every 0.1 on the y-axis\n",
        "ax.yaxis.set_major_locator(MultipleLocator(0.025))\n",
        "\n",
        "ax.set_xlabel('Number of major earthquakes in the next decade')\n",
        "ax.set_ylabel('Probability of occurrence')\n",
        "# sns.despine(trim=True);"
      ]
    },
    {
      "cell_type": "markdown",
      "metadata": {
        "id": "ybYE9lDT_7ZN"
      },
      "source": [
        "B. What is the probability that at least one major earthquake will occur during the next decade?<br>\n",
        "**Answer:**\n",
        "\n",
        "Estimating from the graph:\n",
        "$$\n",
        "\\begin{align*}\n",
        "p(x \\geq 1) &= 1-p(0)\\\\\n",
        "&\\approx1-0.225\\\\\n",
        "& \\approx 0.775\n",
        "\\end{align*}\n",
        "$$\n",
        "\n",
        "Using scipy $p(0)$ is actually 0.223, so the more acurate answer would be $p(x \\geq 1)=0.777$\n",
        "<br><br><br><br><br><br><br><br>"
      ]
    },
    {
      "cell_type": "code",
      "execution_count": 51,
      "metadata": {
        "id": "SXUrdaTI_7ZN",
        "outputId": "70b9bb34-e67e-4498-9cdd-7b564cc17060",
        "colab": {
          "base_uri": "https://localhost:8080/"
        }
      },
      "outputs": [
        {
          "output_type": "stream",
          "name": "stdout",
          "text": [
            "p(0)=0.223\n",
            "Scipt: 0.777\n"
          ]
        }
      ],
      "source": [
        "# You can also answer with code here:\n",
        "print(f\"p(0)={X.pmf(0):0.3f}\")\n",
        "print(f\"Scipt: {1-X.pmf(0):0.3f}\")"
      ]
    },
    {
      "cell_type": "markdown",
      "metadata": {
        "id": "0UNwMjVq_7ZN"
      },
      "source": [
        "C. What is the probability that at least one major earthquake will occur during the next two decades?\n",
        "Hint: Consider two independent and identical copies of $X$, say $X_1$ and $X_2$.\n",
        "And consider their sum $Y = X_1 + X_2$. Read [this](https://en.wikipedia.org/wiki/Poisson_distribution#Sums_of_Poisson-distributed_random_variables) about the sum of two independent Poisson distributions.\n",
        "<br>\n",
        "**Answer:**\n",
        "<br><br><br><br><br><br><br><br>"
      ]
    },
    {
      "cell_type": "code",
      "execution_count": null,
      "metadata": {
        "id": "ETpXiPAu_7ZN"
      },
      "outputs": [],
      "source": [
        "# You can also answer with code here:"
      ]
    },
    {
      "cell_type": "markdown",
      "metadata": {
        "id": "aovmDaWb_7ZN"
      },
      "source": [
        "D. What is the probability that at least one major earthquake will occur during the next five decades?<br>\n",
        "**Answer:**\n",
        "<br><br><br><br><br><br><br><br>"
      ]
    },
    {
      "cell_type": "code",
      "execution_count": null,
      "metadata": {
        "id": "8XKV9L_8_7ZN"
      },
      "outputs": [],
      "source": [
        "# You can also answer with code here:"
      ]
    },
    {
      "cell_type": "markdown",
      "metadata": {
        "id": "320vkung_7ZN"
      },
      "source": [
        "## Problem 4 - Failure of a mechanical component\n",
        "\n",
        "Assume that you designing a gear for a mechanical system.\n",
        "Under normal operating conditions the gear is expected to fail at a random time.\n",
        "Let $T$ be a random variable capturing the time the gear fails.\n",
        "What should the probability density of $T$ look like?\n",
        "\n",
        "Here are some hypothetical data to work with.\n",
        "Suppose that we took ten gears and we worked them until failure.\n",
        "The failure times (say in years) are as follows:"
      ]
    },
    {
      "cell_type": "code",
      "execution_count": null,
      "metadata": {
        "id": "mX9bas-c_7ZN"
      },
      "outputs": [],
      "source": [
        "time_to_fail_data = np.array(\n",
        "    [\n",
        "        10.5,\n",
        "        7.5,\n",
        "        8.1,\n",
        "        8.4,\n",
        "        11.2,\n",
        "        9.3,\n",
        "        8.9,\n",
        "        12.4\n",
        "    ]\n",
        ")"
      ]
    },
    {
      "cell_type": "markdown",
      "metadata": {
        "id": "gdR9oxwc_7ZN"
      },
      "source": [
        "Why does each gear fail at different times?\n",
        "There are several sources of uncertainty.\n",
        "The most important are:\n",
        "\n",
        "- Manufacturing imperfections.\n",
        "- Different loading conditions.\n",
        "\n",
        "If this was a controlled fatigue experiment, then we could eliminate the second source of uncertainty by using exactly the same loading conditions.\n",
        "\n",
        "Now, we are going to fit a probability density function to these data.\n",
        "Which one should we use?\n",
        "Well, new gears do not fail easily.\n",
        "So, the probability density function of $T$ should be close to zero for small $T$.\n",
        "As time goes by, the probability density should increase because various things start happening to the material, e.g., crack formation, fatigue, etc.\n",
        "Finally, the probability density must again start going to zero as time further increases because nothing lasts forever...\n",
        "A probability distribution that is commonly used to model this situation is the [Weibull](https://en.wikipedia.org/wiki/Weibull_distribution).\n",
        "We are going to fit some fail time data to a Weibull distribution and then you will have to answer a few questions about failing times.\n",
        "\n",
        "The Weibull has parameters and we are going to fit them to the available data.\n",
        "The method we are going to use is called the *maximum likelihood method*.\n",
        "We haven't really talked about this, and it is not important to know what it is to do this homework problem.\n",
        "We will learn about maximum likelihood in later lectures.\n",
        "Here is how we fit the parameters using `scipy.stats`:"
      ]
    },
    {
      "cell_type": "code",
      "execution_count": null,
      "metadata": {
        "id": "95EYJS7z_7ZR",
        "outputId": "8937788e-99e9-4e60-fd07-280a4a47af9f"
      },
      "outputs": [
        {
          "name": "stdout",
          "output_type": "stream",
          "text": [
            "Fitted parameters: (448.066965711728, 0.7099665338918923, 3.4218808260575804, 0.41627831297126994)\n"
          ]
        }
      ],
      "source": [
        "fitted_params = st.exponweib.fit(time_to_fail_data, loc=0)\n",
        "T = st.exponweib(*fitted_params)\n",
        "print(f\"Fitted parameters: {fitted_params}\")"
      ]
    },
    {
      "cell_type": "markdown",
      "metadata": {
        "id": "SUYuye3J_7ZR"
      },
      "source": [
        "Let's plot the fitted Weibul PDF and the data we used:"
      ]
    },
    {
      "cell_type": "code",
      "execution_count": null,
      "metadata": {
        "id": "09kFit1X_7ZR",
        "outputId": "d2eb3e5d-60f9-4589-f0bb-7eb53daf70fe"
      },
      "outputs": [
        {
          "data": {
            "image/svg+xml": [
              "<?xml version=\"1.0\" encoding=\"utf-8\" standalone=\"no\"?>\n",
              "<!DOCTYPE svg PUBLIC \"-//W3C//DTD SVG 1.1//EN\"\n",
              "  \"http://www.w3.org/Graphics/SVG/1.1/DTD/svg11.dtd\">\n",
              "<svg xmlns:xlink=\"http://www.w3.org/1999/xlink\" width=\"410.257625pt\" height=\"309.979875pt\" viewBox=\"0 0 410.257625 309.979875\" xmlns=\"http://www.w3.org/2000/svg\" version=\"1.1\">\n",
              " <metadata>\n",
              "  <rdf:RDF xmlns:dc=\"http://purl.org/dc/elements/1.1/\" xmlns:cc=\"http://creativecommons.org/ns#\" xmlns:rdf=\"http://www.w3.org/1999/02/22-rdf-syntax-ns#\">\n",
              "   <cc:Work>\n",
              "    <dc:type rdf:resource=\"http://purl.org/dc/dcmitype/StillImage\"/>\n",
              "    <dc:date>2023-08-11T19:54:32.815252</dc:date>\n",
              "    <dc:format>image/svg+xml</dc:format>\n",
              "    <dc:creator>\n",
              "     <cc:Agent>\n",
              "      <dc:title>Matplotlib v3.7.1, https://matplotlib.org/</dc:title>\n",
              "     </cc:Agent>\n",
              "    </dc:creator>\n",
              "   </cc:Work>\n",
              "  </rdf:RDF>\n",
              " </metadata>\n",
              " <defs>\n",
              "  <style type=\"text/css\">*{stroke-linejoin: round; stroke-linecap: butt}</style>\n",
              " </defs>\n",
              " <g id=\"figure_1\">\n",
              "  <g id=\"patch_1\">\n",
              "   <path d=\"M 0 309.979875 \n",
              "L 410.257625 309.979875 \n",
              "L 410.257625 0 \n",
              "L 0 0 \n",
              "z\n",
              "\" style=\"fill: #ffffff\"/>\n",
              "  </g>\n",
              "  <g id=\"axes_1\">\n",
              "   <g id=\"patch_2\">\n",
              "    <path d=\"M 45.937625 273.312 \n",
              "L 403.057625 273.312 \n",
              "L 403.057625 7.2 \n",
              "L 45.937625 7.2 \n",
              "z\n",
              "\" style=\"fill: #ffffff\"/>\n",
              "   </g>\n",
              "   <g id=\"matplotlib.axis_1\">\n",
              "    <g id=\"xtick_1\">\n",
              "     <g id=\"line2d_1\">\n",
              "      <defs>\n",
              "       <path id=\"m27b8aeb39f\" d=\"M 0 0 \n",
              "L 0 4.8 \n",
              "\" style=\"stroke: #262626\"/>\n",
              "      </defs>\n",
              "      <g>\n",
              "       <use xlink:href=\"#m27b8aeb39f\" x=\"62.170352\" y=\"273.312\" style=\"fill: #262626; stroke: #262626\"/>\n",
              "      </g>\n",
              "     </g>\n",
              "     <g id=\"text_1\">\n",
              "      <!-- 0.0 -->\n",
              "      <g style=\"fill: #262626\" transform=\"translate(56.054352 287.910875) scale(0.088 -0.088)\">\n",
              "       <defs>\n",
              "        <path id=\"ArialMT-30\" d=\"M 266 2259 \n",
              "Q 266 3072 433 3567 \n",
              "Q 600 4063 929 4331 \n",
              "Q 1259 4600 1759 4600 \n",
              "Q 2128 4600 2406 4451 \n",
              "Q 2684 4303 2865 4023 \n",
              "Q 3047 3744 3150 3342 \n",
              "Q 3253 2941 3253 2259 \n",
              "Q 3253 1453 3087 958 \n",
              "Q 2922 463 2592 192 \n",
              "Q 2263 -78 1759 -78 \n",
              "Q 1097 -78 719 397 \n",
              "Q 266 969 266 2259 \n",
              "z\n",
              "M 844 2259 \n",
              "Q 844 1131 1108 757 \n",
              "Q 1372 384 1759 384 \n",
              "Q 2147 384 2411 759 \n",
              "Q 2675 1134 2675 2259 \n",
              "Q 2675 3391 2411 3762 \n",
              "Q 2147 4134 1753 4134 \n",
              "Q 1366 4134 1134 3806 \n",
              "Q 844 3388 844 2259 \n",
              "z\n",
              "\" transform=\"scale(0.015625)\"/>\n",
              "        <path id=\"ArialMT-2e\" d=\"M 581 0 \n",
              "L 581 641 \n",
              "L 1222 641 \n",
              "L 1222 0 \n",
              "L 581 0 \n",
              "z\n",
              "\" transform=\"scale(0.015625)\"/>\n",
              "       </defs>\n",
              "       <use xlink:href=\"#ArialMT-30\"/>\n",
              "       <use xlink:href=\"#ArialMT-2e\" x=\"55.615234\"/>\n",
              "       <use xlink:href=\"#ArialMT-30\" x=\"83.398438\"/>\n",
              "      </g>\n",
              "     </g>\n",
              "    </g>\n",
              "    <g id=\"xtick_2\">\n",
              "     <g id=\"line2d_2\">\n",
              "      <g>\n",
              "       <use xlink:href=\"#m27b8aeb39f\" x=\"102.75217\" y=\"273.312\" style=\"fill: #262626; stroke: #262626\"/>\n",
              "      </g>\n",
              "     </g>\n",
              "     <g id=\"text_2\">\n",
              "      <!-- 2.5 -->\n",
              "      <g style=\"fill: #262626\" transform=\"translate(96.63617 287.910875) scale(0.088 -0.088)\">\n",
              "       <defs>\n",
              "        <path id=\"ArialMT-32\" d=\"M 3222 541 \n",
              "L 3222 0 \n",
              "L 194 0 \n",
              "Q 188 203 259 391 \n",
              "Q 375 700 629 1000 \n",
              "Q 884 1300 1366 1694 \n",
              "Q 2113 2306 2375 2664 \n",
              "Q 2638 3022 2638 3341 \n",
              "Q 2638 3675 2398 3904 \n",
              "Q 2159 4134 1775 4134 \n",
              "Q 1369 4134 1125 3890 \n",
              "Q 881 3647 878 3216 \n",
              "L 300 3275 \n",
              "Q 359 3922 746 4261 \n",
              "Q 1134 4600 1788 4600 \n",
              "Q 2447 4600 2831 4234 \n",
              "Q 3216 3869 3216 3328 \n",
              "Q 3216 3053 3103 2787 \n",
              "Q 2991 2522 2730 2228 \n",
              "Q 2469 1934 1863 1422 \n",
              "Q 1356 997 1212 845 \n",
              "Q 1069 694 975 541 \n",
              "L 3222 541 \n",
              "z\n",
              "\" transform=\"scale(0.015625)\"/>\n",
              "        <path id=\"ArialMT-35\" d=\"M 266 1200 \n",
              "L 856 1250 \n",
              "Q 922 819 1161 601 \n",
              "Q 1400 384 1738 384 \n",
              "Q 2144 384 2425 690 \n",
              "Q 2706 997 2706 1503 \n",
              "Q 2706 1984 2436 2262 \n",
              "Q 2166 2541 1728 2541 \n",
              "Q 1456 2541 1237 2417 \n",
              "Q 1019 2294 894 2097 \n",
              "L 366 2166 \n",
              "L 809 4519 \n",
              "L 3088 4519 \n",
              "L 3088 3981 \n",
              "L 1259 3981 \n",
              "L 1013 2750 \n",
              "Q 1425 3038 1878 3038 \n",
              "Q 2478 3038 2890 2622 \n",
              "Q 3303 2206 3303 1553 \n",
              "Q 3303 931 2941 478 \n",
              "Q 2500 -78 1738 -78 \n",
              "Q 1113 -78 717 272 \n",
              "Q 322 622 266 1200 \n",
              "z\n",
              "\" transform=\"scale(0.015625)\"/>\n",
              "       </defs>\n",
              "       <use xlink:href=\"#ArialMT-32\"/>\n",
              "       <use xlink:href=\"#ArialMT-2e\" x=\"55.615234\"/>\n",
              "       <use xlink:href=\"#ArialMT-35\" x=\"83.398438\"/>\n",
              "      </g>\n",
              "     </g>\n",
              "    </g>\n",
              "    <g id=\"xtick_3\">\n",
              "     <g id=\"line2d_3\">\n",
              "      <g>\n",
              "       <use xlink:href=\"#m27b8aeb39f\" x=\"143.333989\" y=\"273.312\" style=\"fill: #262626; stroke: #262626\"/>\n",
              "      </g>\n",
              "     </g>\n",
              "     <g id=\"text_3\">\n",
              "      <!-- 5.0 -->\n",
              "      <g style=\"fill: #262626\" transform=\"translate(137.217989 287.910875) scale(0.088 -0.088)\">\n",
              "       <use xlink:href=\"#ArialMT-35\"/>\n",
              "       <use xlink:href=\"#ArialMT-2e\" x=\"55.615234\"/>\n",
              "       <use xlink:href=\"#ArialMT-30\" x=\"83.398438\"/>\n",
              "      </g>\n",
              "     </g>\n",
              "    </g>\n",
              "    <g id=\"xtick_4\">\n",
              "     <g id=\"line2d_4\">\n",
              "      <g>\n",
              "       <use xlink:href=\"#m27b8aeb39f\" x=\"183.915807\" y=\"273.312\" style=\"fill: #262626; stroke: #262626\"/>\n",
              "      </g>\n",
              "     </g>\n",
              "     <g id=\"text_4\">\n",
              "      <!-- 7.5 -->\n",
              "      <g style=\"fill: #262626\" transform=\"translate(177.799807 287.910875) scale(0.088 -0.088)\">\n",
              "       <defs>\n",
              "        <path id=\"ArialMT-37\" d=\"M 303 3981 \n",
              "L 303 4522 \n",
              "L 3269 4522 \n",
              "L 3269 4084 \n",
              "Q 2831 3619 2401 2847 \n",
              "Q 1972 2075 1738 1259 \n",
              "Q 1569 684 1522 0 \n",
              "L 944 0 \n",
              "Q 953 541 1156 1306 \n",
              "Q 1359 2072 1739 2783 \n",
              "Q 2119 3494 2547 3981 \n",
              "L 303 3981 \n",
              "z\n",
              "\" transform=\"scale(0.015625)\"/>\n",
              "       </defs>\n",
              "       <use xlink:href=\"#ArialMT-37\"/>\n",
              "       <use xlink:href=\"#ArialMT-2e\" x=\"55.615234\"/>\n",
              "       <use xlink:href=\"#ArialMT-35\" x=\"83.398438\"/>\n",
              "      </g>\n",
              "     </g>\n",
              "    </g>\n",
              "    <g id=\"xtick_5\">\n",
              "     <g id=\"line2d_5\">\n",
              "      <g>\n",
              "       <use xlink:href=\"#m27b8aeb39f\" x=\"224.497625\" y=\"273.312\" style=\"fill: #262626; stroke: #262626\"/>\n",
              "      </g>\n",
              "     </g>\n",
              "     <g id=\"text_5\">\n",
              "      <!-- 10.0 -->\n",
              "      <g style=\"fill: #262626\" transform=\"translate(215.934813 287.910875) scale(0.088 -0.088)\">\n",
              "       <defs>\n",
              "        <path id=\"ArialMT-31\" d=\"M 2384 0 \n",
              "L 1822 0 \n",
              "L 1822 3584 \n",
              "Q 1619 3391 1289 3197 \n",
              "Q 959 3003 697 2906 \n",
              "L 697 3450 \n",
              "Q 1169 3672 1522 3987 \n",
              "Q 1875 4303 2022 4600 \n",
              "L 2384 4600 \n",
              "L 2384 0 \n",
              "z\n",
              "\" transform=\"scale(0.015625)\"/>\n",
              "       </defs>\n",
              "       <use xlink:href=\"#ArialMT-31\"/>\n",
              "       <use xlink:href=\"#ArialMT-30\" x=\"55.615234\"/>\n",
              "       <use xlink:href=\"#ArialMT-2e\" x=\"111.230469\"/>\n",
              "       <use xlink:href=\"#ArialMT-30\" x=\"139.013672\"/>\n",
              "      </g>\n",
              "     </g>\n",
              "    </g>\n",
              "    <g id=\"xtick_6\">\n",
              "     <g id=\"line2d_6\">\n",
              "      <g>\n",
              "       <use xlink:href=\"#m27b8aeb39f\" x=\"265.079443\" y=\"273.312\" style=\"fill: #262626; stroke: #262626\"/>\n",
              "      </g>\n",
              "     </g>\n",
              "     <g id=\"text_6\">\n",
              "      <!-- 12.5 -->\n",
              "      <g style=\"fill: #262626\" transform=\"translate(256.516631 287.910875) scale(0.088 -0.088)\">\n",
              "       <use xlink:href=\"#ArialMT-31\"/>\n",
              "       <use xlink:href=\"#ArialMT-32\" x=\"55.615234\"/>\n",
              "       <use xlink:href=\"#ArialMT-2e\" x=\"111.230469\"/>\n",
              "       <use xlink:href=\"#ArialMT-35\" x=\"139.013672\"/>\n",
              "      </g>\n",
              "     </g>\n",
              "    </g>\n",
              "    <g id=\"xtick_7\">\n",
              "     <g id=\"line2d_7\">\n",
              "      <g>\n",
              "       <use xlink:href=\"#m27b8aeb39f\" x=\"305.661261\" y=\"273.312\" style=\"fill: #262626; stroke: #262626\"/>\n",
              "      </g>\n",
              "     </g>\n",
              "     <g id=\"text_7\">\n",
              "      <!-- 15.0 -->\n",
              "      <g style=\"fill: #262626\" transform=\"translate(297.098449 287.910875) scale(0.088 -0.088)\">\n",
              "       <use xlink:href=\"#ArialMT-31\"/>\n",
              "       <use xlink:href=\"#ArialMT-35\" x=\"55.615234\"/>\n",
              "       <use xlink:href=\"#ArialMT-2e\" x=\"111.230469\"/>\n",
              "       <use xlink:href=\"#ArialMT-30\" x=\"139.013672\"/>\n",
              "      </g>\n",
              "     </g>\n",
              "    </g>\n",
              "    <g id=\"xtick_8\">\n",
              "     <g id=\"line2d_8\">\n",
              "      <g>\n",
              "       <use xlink:href=\"#m27b8aeb39f\" x=\"346.24308\" y=\"273.312\" style=\"fill: #262626; stroke: #262626\"/>\n",
              "      </g>\n",
              "     </g>\n",
              "     <g id=\"text_8\">\n",
              "      <!-- 17.5 -->\n",
              "      <g style=\"fill: #262626\" transform=\"translate(337.680267 287.910875) scale(0.088 -0.088)\">\n",
              "       <use xlink:href=\"#ArialMT-31\"/>\n",
              "       <use xlink:href=\"#ArialMT-37\" x=\"55.615234\"/>\n",
              "       <use xlink:href=\"#ArialMT-2e\" x=\"111.230469\"/>\n",
              "       <use xlink:href=\"#ArialMT-35\" x=\"139.013672\"/>\n",
              "      </g>\n",
              "     </g>\n",
              "    </g>\n",
              "    <g id=\"xtick_9\">\n",
              "     <g id=\"line2d_9\">\n",
              "      <g>\n",
              "       <use xlink:href=\"#m27b8aeb39f\" x=\"386.824898\" y=\"273.312\" style=\"fill: #262626; stroke: #262626\"/>\n",
              "      </g>\n",
              "     </g>\n",
              "     <g id=\"text_9\">\n",
              "      <!-- 20.0 -->\n",
              "      <g style=\"fill: #262626\" transform=\"translate(378.262085 287.910875) scale(0.088 -0.088)\">\n",
              "       <use xlink:href=\"#ArialMT-32\"/>\n",
              "       <use xlink:href=\"#ArialMT-30\" x=\"55.615234\"/>\n",
              "       <use xlink:href=\"#ArialMT-2e\" x=\"111.230469\"/>\n",
              "       <use xlink:href=\"#ArialMT-30\" x=\"139.013672\"/>\n",
              "      </g>\n",
              "     </g>\n",
              "    </g>\n",
              "    <g id=\"text_10\">\n",
              "     <!-- $t$ (years) -->\n",
              "     <g style=\"fill: #262626\" transform=\"translate(206.305625 300.667875) scale(0.096 -0.096)\">\n",
              "      <defs>\n",
              "       <path id=\"DejaVuSans-Oblique-74\" d=\"M 2706 3500 \n",
              "L 2619 3053 \n",
              "L 1472 3053 \n",
              "L 1100 1153 \n",
              "Q 1081 1047 1072 975 \n",
              "Q 1063 903 1063 863 \n",
              "Q 1063 663 1183 572 \n",
              "Q 1303 481 1569 481 \n",
              "L 2150 481 \n",
              "L 2053 0 \n",
              "L 1503 0 \n",
              "Q 991 0 739 200 \n",
              "Q 488 400 488 806 \n",
              "Q 488 878 497 964 \n",
              "Q 506 1050 525 1153 \n",
              "L 897 3053 \n",
              "L 409 3053 \n",
              "L 500 3500 \n",
              "L 978 3500 \n",
              "L 1172 4494 \n",
              "L 1747 4494 \n",
              "L 1556 3500 \n",
              "L 2706 3500 \n",
              "z\n",
              "\" transform=\"scale(0.015625)\"/>\n",
              "       <path id=\"ArialMT-20\" transform=\"scale(0.015625)\"/>\n",
              "       <path id=\"ArialMT-28\" d=\"M 1497 -1347 \n",
              "Q 1031 -759 709 28 \n",
              "Q 388 816 388 1659 \n",
              "Q 388 2403 628 3084 \n",
              "Q 909 3875 1497 4659 \n",
              "L 1900 4659 \n",
              "Q 1522 4009 1400 3731 \n",
              "Q 1209 3300 1100 2831 \n",
              "Q 966 2247 966 1656 \n",
              "Q 966 153 1900 -1347 \n",
              "L 1497 -1347 \n",
              "z\n",
              "\" transform=\"scale(0.015625)\"/>\n",
              "       <path id=\"ArialMT-79\" d=\"M 397 -1278 \n",
              "L 334 -750 \n",
              "Q 519 -800 656 -800 \n",
              "Q 844 -800 956 -737 \n",
              "Q 1069 -675 1141 -563 \n",
              "Q 1194 -478 1313 -144 \n",
              "Q 1328 -97 1363 -6 \n",
              "L 103 3319 \n",
              "L 709 3319 \n",
              "L 1400 1397 \n",
              "Q 1534 1031 1641 628 \n",
              "Q 1738 1016 1872 1384 \n",
              "L 2581 3319 \n",
              "L 3144 3319 \n",
              "L 1881 -56 \n",
              "Q 1678 -603 1566 -809 \n",
              "Q 1416 -1088 1222 -1217 \n",
              "Q 1028 -1347 759 -1347 \n",
              "Q 597 -1347 397 -1278 \n",
              "z\n",
              "\" transform=\"scale(0.015625)\"/>\n",
              "       <path id=\"ArialMT-65\" d=\"M 2694 1069 \n",
              "L 3275 997 \n",
              "Q 3138 488 2766 206 \n",
              "Q 2394 -75 1816 -75 \n",
              "Q 1088 -75 661 373 \n",
              "Q 234 822 234 1631 \n",
              "Q 234 2469 665 2931 \n",
              "Q 1097 3394 1784 3394 \n",
              "Q 2450 3394 2872 2941 \n",
              "Q 3294 2488 3294 1666 \n",
              "Q 3294 1616 3291 1516 \n",
              "L 816 1516 \n",
              "Q 847 969 1125 678 \n",
              "Q 1403 388 1819 388 \n",
              "Q 2128 388 2347 550 \n",
              "Q 2566 713 2694 1069 \n",
              "z\n",
              "M 847 1978 \n",
              "L 2700 1978 \n",
              "Q 2663 2397 2488 2606 \n",
              "Q 2219 2931 1791 2931 \n",
              "Q 1403 2931 1139 2672 \n",
              "Q 875 2413 847 1978 \n",
              "z\n",
              "\" transform=\"scale(0.015625)\"/>\n",
              "       <path id=\"ArialMT-61\" d=\"M 2588 409 \n",
              "Q 2275 144 1986 34 \n",
              "Q 1697 -75 1366 -75 \n",
              "Q 819 -75 525 192 \n",
              "Q 231 459 231 875 \n",
              "Q 231 1119 342 1320 \n",
              "Q 453 1522 633 1644 \n",
              "Q 813 1766 1038 1828 \n",
              "Q 1203 1872 1538 1913 \n",
              "Q 2219 1994 2541 2106 \n",
              "Q 2544 2222 2544 2253 \n",
              "Q 2544 2597 2384 2738 \n",
              "Q 2169 2928 1744 2928 \n",
              "Q 1347 2928 1158 2789 \n",
              "Q 969 2650 878 2297 \n",
              "L 328 2372 \n",
              "Q 403 2725 575 2942 \n",
              "Q 747 3159 1072 3276 \n",
              "Q 1397 3394 1825 3394 \n",
              "Q 2250 3394 2515 3294 \n",
              "Q 2781 3194 2906 3042 \n",
              "Q 3031 2891 3081 2659 \n",
              "Q 3109 2516 3109 2141 \n",
              "L 3109 1391 \n",
              "Q 3109 606 3145 398 \n",
              "Q 3181 191 3288 0 \n",
              "L 2700 0 \n",
              "Q 2613 175 2588 409 \n",
              "z\n",
              "M 2541 1666 \n",
              "Q 2234 1541 1622 1453 \n",
              "Q 1275 1403 1131 1340 \n",
              "Q 988 1278 909 1158 \n",
              "Q 831 1038 831 891 \n",
              "Q 831 666 1001 516 \n",
              "Q 1172 366 1500 366 \n",
              "Q 1825 366 2078 508 \n",
              "Q 2331 650 2450 897 \n",
              "Q 2541 1088 2541 1459 \n",
              "L 2541 1666 \n",
              "z\n",
              "\" transform=\"scale(0.015625)\"/>\n",
              "       <path id=\"ArialMT-72\" d=\"M 416 0 \n",
              "L 416 3319 \n",
              "L 922 3319 \n",
              "L 922 2816 \n",
              "Q 1116 3169 1280 3281 \n",
              "Q 1444 3394 1641 3394 \n",
              "Q 1925 3394 2219 3213 \n",
              "L 2025 2691 \n",
              "Q 1819 2813 1613 2813 \n",
              "Q 1428 2813 1281 2702 \n",
              "Q 1134 2591 1072 2394 \n",
              "Q 978 2094 978 1738 \n",
              "L 978 0 \n",
              "L 416 0 \n",
              "z\n",
              "\" transform=\"scale(0.015625)\"/>\n",
              "       <path id=\"ArialMT-73\" d=\"M 197 991 \n",
              "L 753 1078 \n",
              "Q 800 744 1014 566 \n",
              "Q 1228 388 1613 388 \n",
              "Q 2000 388 2187 545 \n",
              "Q 2375 703 2375 916 \n",
              "Q 2375 1106 2209 1216 \n",
              "Q 2094 1291 1634 1406 \n",
              "Q 1016 1563 777 1677 \n",
              "Q 538 1791 414 1992 \n",
              "Q 291 2194 291 2438 \n",
              "Q 291 2659 392 2848 \n",
              "Q 494 3038 669 3163 \n",
              "Q 800 3259 1026 3326 \n",
              "Q 1253 3394 1513 3394 \n",
              "Q 1903 3394 2198 3281 \n",
              "Q 2494 3169 2634 2976 \n",
              "Q 2775 2784 2828 2463 \n",
              "L 2278 2388 \n",
              "Q 2241 2644 2061 2787 \n",
              "Q 1881 2931 1553 2931 \n",
              "Q 1166 2931 1000 2803 \n",
              "Q 834 2675 834 2503 \n",
              "Q 834 2394 903 2306 \n",
              "Q 972 2216 1119 2156 \n",
              "Q 1203 2125 1616 2013 \n",
              "Q 2213 1853 2448 1751 \n",
              "Q 2684 1650 2818 1456 \n",
              "Q 2953 1263 2953 975 \n",
              "Q 2953 694 2789 445 \n",
              "Q 2625 197 2315 61 \n",
              "Q 2006 -75 1616 -75 \n",
              "Q 969 -75 630 194 \n",
              "Q 291 463 197 991 \n",
              "z\n",
              "\" transform=\"scale(0.015625)\"/>\n",
              "       <path id=\"ArialMT-29\" d=\"M 791 -1347 \n",
              "L 388 -1347 \n",
              "Q 1322 153 1322 1656 \n",
              "Q 1322 2244 1188 2822 \n",
              "Q 1081 3291 891 3722 \n",
              "Q 769 4003 388 4659 \n",
              "L 791 4659 \n",
              "Q 1378 3875 1659 3084 \n",
              "Q 1900 2403 1900 1659 \n",
              "Q 1900 816 1576 28 \n",
              "Q 1253 -759 791 -1347 \n",
              "z\n",
              "\" transform=\"scale(0.015625)\"/>\n",
              "      </defs>\n",
              "      <use xlink:href=\"#DejaVuSans-Oblique-74\" transform=\"translate(0 0.203125)\"/>\n",
              "      <use xlink:href=\"#ArialMT-20\" transform=\"translate(39.208984 0.203125)\"/>\n",
              "      <use xlink:href=\"#ArialMT-28\" transform=\"translate(66.992188 0.203125)\"/>\n",
              "      <use xlink:href=\"#ArialMT-79\" transform=\"translate(100.292969 0.203125)\"/>\n",
              "      <use xlink:href=\"#ArialMT-65\" transform=\"translate(150.292969 0.203125)\"/>\n",
              "      <use xlink:href=\"#ArialMT-61\" transform=\"translate(205.908203 0.203125)\"/>\n",
              "      <use xlink:href=\"#ArialMT-72\" transform=\"translate(261.523438 0.203125)\"/>\n",
              "      <use xlink:href=\"#ArialMT-73\" transform=\"translate(294.824219 0.203125)\"/>\n",
              "      <use xlink:href=\"#ArialMT-29\" transform=\"translate(344.824219 0.203125)\"/>\n",
              "     </g>\n",
              "    </g>\n",
              "   </g>\n",
              "   <g id=\"matplotlib.axis_2\">\n",
              "    <g id=\"ytick_1\">\n",
              "     <g id=\"line2d_10\">\n",
              "      <defs>\n",
              "       <path id=\"mf22c401394\" d=\"M 0 0 \n",
              "L -4.8 0 \n",
              "\" style=\"stroke: #262626\"/>\n",
              "      </defs>\n",
              "      <g>\n",
              "       <use xlink:href=\"#mf22c401394\" x=\"45.937625\" y=\"261.216\" style=\"fill: #262626; stroke: #262626\"/>\n",
              "      </g>\n",
              "     </g>\n",
              "     <g id=\"text_11\">\n",
              "      <!-- 0.00 -->\n",
              "      <g style=\"fill: #262626\" transform=\"translate(20.512 264.365437) scale(0.088 -0.088)\">\n",
              "       <use xlink:href=\"#ArialMT-30\"/>\n",
              "       <use xlink:href=\"#ArialMT-2e\" x=\"55.615234\"/>\n",
              "       <use xlink:href=\"#ArialMT-30\" x=\"83.398438\"/>\n",
              "       <use xlink:href=\"#ArialMT-30\" x=\"139.013672\"/>\n",
              "      </g>\n",
              "     </g>\n",
              "    </g>\n",
              "    <g id=\"ytick_2\">\n",
              "     <g id=\"line2d_11\">\n",
              "      <g>\n",
              "       <use xlink:href=\"#mf22c401394\" x=\"45.937625\" y=\"220.973324\" style=\"fill: #262626; stroke: #262626\"/>\n",
              "      </g>\n",
              "     </g>\n",
              "     <g id=\"text_12\">\n",
              "      <!-- 0.05 -->\n",
              "      <g style=\"fill: #262626\" transform=\"translate(20.512 224.122762) scale(0.088 -0.088)\">\n",
              "       <use xlink:href=\"#ArialMT-30\"/>\n",
              "       <use xlink:href=\"#ArialMT-2e\" x=\"55.615234\"/>\n",
              "       <use xlink:href=\"#ArialMT-30\" x=\"83.398438\"/>\n",
              "       <use xlink:href=\"#ArialMT-35\" x=\"139.013672\"/>\n",
              "      </g>\n",
              "     </g>\n",
              "    </g>\n",
              "    <g id=\"ytick_3\">\n",
              "     <g id=\"line2d_12\">\n",
              "      <g>\n",
              "       <use xlink:href=\"#mf22c401394\" x=\"45.937625\" y=\"180.730648\" style=\"fill: #262626; stroke: #262626\"/>\n",
              "      </g>\n",
              "     </g>\n",
              "     <g id=\"text_13\">\n",
              "      <!-- 0.10 -->\n",
              "      <g style=\"fill: #262626\" transform=\"translate(20.512 183.880086) scale(0.088 -0.088)\">\n",
              "       <use xlink:href=\"#ArialMT-30\"/>\n",
              "       <use xlink:href=\"#ArialMT-2e\" x=\"55.615234\"/>\n",
              "       <use xlink:href=\"#ArialMT-31\" x=\"83.398438\"/>\n",
              "       <use xlink:href=\"#ArialMT-30\" x=\"139.013672\"/>\n",
              "      </g>\n",
              "     </g>\n",
              "    </g>\n",
              "    <g id=\"ytick_4\">\n",
              "     <g id=\"line2d_13\">\n",
              "      <g>\n",
              "       <use xlink:href=\"#mf22c401394\" x=\"45.937625\" y=\"140.487972\" style=\"fill: #262626; stroke: #262626\"/>\n",
              "      </g>\n",
              "     </g>\n",
              "     <g id=\"text_14\">\n",
              "      <!-- 0.15 -->\n",
              "      <g style=\"fill: #262626\" transform=\"translate(20.512 143.63741) scale(0.088 -0.088)\">\n",
              "       <use xlink:href=\"#ArialMT-30\"/>\n",
              "       <use xlink:href=\"#ArialMT-2e\" x=\"55.615234\"/>\n",
              "       <use xlink:href=\"#ArialMT-31\" x=\"83.398438\"/>\n",
              "       <use xlink:href=\"#ArialMT-35\" x=\"139.013672\"/>\n",
              "      </g>\n",
              "     </g>\n",
              "    </g>\n",
              "    <g id=\"ytick_5\">\n",
              "     <g id=\"line2d_14\">\n",
              "      <g>\n",
              "       <use xlink:href=\"#mf22c401394\" x=\"45.937625\" y=\"100.245297\" style=\"fill: #262626; stroke: #262626\"/>\n",
              "      </g>\n",
              "     </g>\n",
              "     <g id=\"text_15\">\n",
              "      <!-- 0.20 -->\n",
              "      <g style=\"fill: #262626\" transform=\"translate(20.512 103.394734) scale(0.088 -0.088)\">\n",
              "       <use xlink:href=\"#ArialMT-30\"/>\n",
              "       <use xlink:href=\"#ArialMT-2e\" x=\"55.615234\"/>\n",
              "       <use xlink:href=\"#ArialMT-32\" x=\"83.398438\"/>\n",
              "       <use xlink:href=\"#ArialMT-30\" x=\"139.013672\"/>\n",
              "      </g>\n",
              "     </g>\n",
              "    </g>\n",
              "    <g id=\"ytick_6\">\n",
              "     <g id=\"line2d_15\">\n",
              "      <g>\n",
              "       <use xlink:href=\"#mf22c401394\" x=\"45.937625\" y=\"60.002621\" style=\"fill: #262626; stroke: #262626\"/>\n",
              "      </g>\n",
              "     </g>\n",
              "     <g id=\"text_16\">\n",
              "      <!-- 0.25 -->\n",
              "      <g style=\"fill: #262626\" transform=\"translate(20.512 63.152058) scale(0.088 -0.088)\">\n",
              "       <use xlink:href=\"#ArialMT-30\"/>\n",
              "       <use xlink:href=\"#ArialMT-2e\" x=\"55.615234\"/>\n",
              "       <use xlink:href=\"#ArialMT-32\" x=\"83.398438\"/>\n",
              "       <use xlink:href=\"#ArialMT-35\" x=\"139.013672\"/>\n",
              "      </g>\n",
              "     </g>\n",
              "    </g>\n",
              "    <g id=\"ytick_7\">\n",
              "     <g id=\"line2d_16\">\n",
              "      <g>\n",
              "       <use xlink:href=\"#mf22c401394\" x=\"45.937625\" y=\"19.759945\" style=\"fill: #262626; stroke: #262626\"/>\n",
              "      </g>\n",
              "     </g>\n",
              "     <g id=\"text_17\">\n",
              "      <!-- 0.30 -->\n",
              "      <g style=\"fill: #262626\" transform=\"translate(20.512 22.909382) scale(0.088 -0.088)\">\n",
              "       <defs>\n",
              "        <path id=\"ArialMT-33\" d=\"M 269 1209 \n",
              "L 831 1284 \n",
              "Q 928 806 1161 595 \n",
              "Q 1394 384 1728 384 \n",
              "Q 2125 384 2398 659 \n",
              "Q 2672 934 2672 1341 \n",
              "Q 2672 1728 2419 1979 \n",
              "Q 2166 2231 1775 2231 \n",
              "Q 1616 2231 1378 2169 \n",
              "L 1441 2663 \n",
              "Q 1497 2656 1531 2656 \n",
              "Q 1891 2656 2178 2843 \n",
              "Q 2466 3031 2466 3422 \n",
              "Q 2466 3731 2256 3934 \n",
              "Q 2047 4138 1716 4138 \n",
              "Q 1388 4138 1169 3931 \n",
              "Q 950 3725 888 3313 \n",
              "L 325 3413 \n",
              "Q 428 3978 793 4289 \n",
              "Q 1159 4600 1703 4600 \n",
              "Q 2078 4600 2393 4439 \n",
              "Q 2709 4278 2876 4000 \n",
              "Q 3044 3722 3044 3409 \n",
              "Q 3044 3113 2884 2869 \n",
              "Q 2725 2625 2413 2481 \n",
              "Q 2819 2388 3044 2092 \n",
              "Q 3269 1797 3269 1353 \n",
              "Q 3269 753 2831 336 \n",
              "Q 2394 -81 1725 -81 \n",
              "Q 1122 -81 723 278 \n",
              "Q 325 638 269 1209 \n",
              "z\n",
              "\" transform=\"scale(0.015625)\"/>\n",
              "       </defs>\n",
              "       <use xlink:href=\"#ArialMT-30\"/>\n",
              "       <use xlink:href=\"#ArialMT-2e\" x=\"55.615234\"/>\n",
              "       <use xlink:href=\"#ArialMT-33\" x=\"83.398438\"/>\n",
              "       <use xlink:href=\"#ArialMT-30\" x=\"139.013672\"/>\n",
              "      </g>\n",
              "     </g>\n",
              "    </g>\n",
              "    <g id=\"text_18\">\n",
              "     <!-- $p(t)$ -->\n",
              "     <g style=\"fill: #262626\" transform=\"translate(14.496 148.944) rotate(-90) scale(0.096 -0.096)\">\n",
              "      <defs>\n",
              "       <path id=\"DejaVuSans-Oblique-70\" d=\"M 3175 2156 \n",
              "Q 3175 2616 2975 2859 \n",
              "Q 2775 3103 2400 3103 \n",
              "Q 2144 3103 1911 2972 \n",
              "Q 1678 2841 1497 2591 \n",
              "Q 1319 2344 1212 1994 \n",
              "Q 1106 1644 1106 1300 \n",
              "Q 1106 863 1306 627 \n",
              "Q 1506 391 1875 391 \n",
              "Q 2147 391 2380 519 \n",
              "Q 2613 647 2778 891 \n",
              "Q 2956 1147 3065 1494 \n",
              "Q 3175 1841 3175 2156 \n",
              "z\n",
              "M 1394 2969 \n",
              "Q 1625 3272 1939 3428 \n",
              "Q 2253 3584 2638 3584 \n",
              "Q 3175 3584 3472 3232 \n",
              "Q 3769 2881 3769 2247 \n",
              "Q 3769 1728 3584 1258 \n",
              "Q 3400 788 3053 416 \n",
              "Q 2822 169 2531 39 \n",
              "Q 2241 -91 1919 -91 \n",
              "Q 1547 -91 1294 64 \n",
              "Q 1041 219 916 525 \n",
              "L 556 -1331 \n",
              "L -19 -1331 \n",
              "L 922 3500 \n",
              "L 1497 3500 \n",
              "L 1394 2969 \n",
              "z\n",
              "\" transform=\"scale(0.015625)\"/>\n",
              "       <path id=\"DejaVuSans-28\" d=\"M 1984 4856 \n",
              "Q 1566 4138 1362 3434 \n",
              "Q 1159 2731 1159 2009 \n",
              "Q 1159 1288 1364 580 \n",
              "Q 1569 -128 1984 -844 \n",
              "L 1484 -844 \n",
              "Q 1016 -109 783 600 \n",
              "Q 550 1309 550 2009 \n",
              "Q 550 2706 781 3412 \n",
              "Q 1013 4119 1484 4856 \n",
              "L 1984 4856 \n",
              "z\n",
              "\" transform=\"scale(0.015625)\"/>\n",
              "       <path id=\"DejaVuSans-29\" d=\"M 513 4856 \n",
              "L 1013 4856 \n",
              "Q 1481 4119 1714 3412 \n",
              "Q 1947 2706 1947 2009 \n",
              "Q 1947 1309 1714 600 \n",
              "Q 1481 -109 1013 -844 \n",
              "L 513 -844 \n",
              "Q 928 -128 1133 580 \n",
              "Q 1338 1288 1338 2009 \n",
              "Q 1338 2731 1133 3434 \n",
              "Q 928 4138 513 4856 \n",
              "z\n",
              "\" transform=\"scale(0.015625)\"/>\n",
              "      </defs>\n",
              "      <use xlink:href=\"#DejaVuSans-Oblique-70\" transform=\"translate(0 0.125)\"/>\n",
              "      <use xlink:href=\"#DejaVuSans-28\" transform=\"translate(63.476562 0.125)\"/>\n",
              "      <use xlink:href=\"#DejaVuSans-Oblique-74\" transform=\"translate(102.490234 0.125)\"/>\n",
              "      <use xlink:href=\"#DejaVuSans-29\" transform=\"translate(141.699219 0.125)\"/>\n",
              "     </g>\n",
              "    </g>\n",
              "   </g>\n",
              "   <g id=\"line2d_17\">\n",
              "    <path d=\"M 62.170352 261.216 \n",
              "L 65.449691 261.216 \n",
              "L 68.72903 261.216 \n",
              "L 72.008369 261.216 \n",
              "L 75.287708 261.216 \n",
              "L 78.567046 261.216 \n",
              "L 81.846385 261.216 \n",
              "L 85.125724 261.216 \n",
              "L 88.405063 261.216 \n",
              "L 91.684402 261.216 \n",
              "L 94.963741 261.216 \n",
              "L 98.24308 261.216 \n",
              "L 101.522418 261.216 \n",
              "L 104.801757 261.216 \n",
              "L 108.081096 261.216 \n",
              "L 111.360435 261.216 \n",
              "L 114.639774 261.216 \n",
              "L 117.919113 261.216 \n",
              "L 121.198451 261.216 \n",
              "L 124.47779 261.216 \n",
              "L 127.757129 261.216 \n",
              "L 131.036468 261.216 \n",
              "L 134.315807 261.216 \n",
              "L 137.595146 261.216 \n",
              "L 140.874485 261.216 \n",
              "L 144.153823 261.216 \n",
              "L 147.433162 261.216 \n",
              "L 150.712501 261.215986 \n",
              "L 153.99184 261.215326 \n",
              "L 157.271179 261.202579 \n",
              "L 160.550518 261.079722 \n",
              "L 163.829856 260.389196 \n",
              "L 167.109195 257.845956 \n",
              "L 170.388534 251.141186 \n",
              "L 173.667873 237.606479 \n",
              "L 176.947212 215.580361 \n",
              "L 180.226551 185.535279 \n",
              "L 183.505889 150.182188 \n",
              "L 186.785228 113.586132 \n",
              "L 190.064567 79.912206 \n",
              "L 193.343906 52.420384 \n",
              "L 196.623245 32.990064 \n",
              "L 199.902584 22.132358 \n",
              "L 203.181923 19.296 \n",
              "L 206.461261 23.269534 \n",
              "L 209.7406 32.548202 \n",
              "L 213.019939 45.606094 \n",
              "L 216.299278 61.064922 \n",
              "L 219.578617 77.776801 \n",
              "L 222.857956 94.846556 \n",
              "L 226.137294 111.617313 \n",
              "L 229.416633 127.637573 \n",
              "L 232.695972 142.621962 \n",
              "L 235.975311 156.412843 \n",
              "L 239.25465 168.946469 \n",
              "L 242.533989 180.225028 \n",
              "L 245.813327 190.29465 \n",
              "L 249.092666 199.228756 \n",
              "L 252.372005 207.115877 \n",
              "L 255.651344 214.051038 \n",
              "L 258.930683 220.129895 \n",
              "L 262.210022 225.444913 \n",
              "L 265.489361 230.083033 \n",
              "L 268.768699 234.124405 \n",
              "L 272.048038 237.641839 \n",
              "L 275.327377 240.700746 \n",
              "L 278.606716 243.359386 \n",
              "L 281.886055 245.66931 \n",
              "L 285.165394 247.675886 \n",
              "L 288.444732 249.418884 \n",
              "L 291.724071 250.933049 \n",
              "L 295.00341 252.248663 \n",
              "L 298.282749 253.39206 \n",
              "L 301.562088 254.386114 \n",
              "L 304.841427 255.250663 \n",
              "L 308.120765 256.002905 \n",
              "L 311.400104 256.657735 \n",
              "L 314.679443 257.228051 \n",
              "L 317.958782 257.725019 \n",
              "L 321.238121 258.158307 \n",
              "L 324.51746 258.536283 \n",
              "L 327.796799 258.866194 \n",
              "L 331.076137 259.154317 \n",
              "L 334.355476 259.406089 \n",
              "L 337.634815 259.626225 \n",
              "L 340.914154 259.81881 \n",
              "L 344.193493 259.98739 \n",
              "L 347.472832 260.135043 \n",
              "L 350.75217 260.26444 \n",
              "L 354.031509 260.377902 \n",
              "L 357.310848 260.477449 \n",
              "L 360.590187 260.564836 \n",
              "L 363.869526 260.64159 \n",
              "L 367.148865 260.709042 \n",
              "L 370.428204 260.768351 \n",
              "L 373.707542 260.820529 \n",
              "L 376.986881 260.866457 \n",
              "L 380.26622 260.906904 \n",
              "L 383.545559 260.942543 \n",
              "L 386.824898 260.973961 \n",
              "\" clip-path=\"url(#p21de5a643c)\" style=\"fill: none; stroke: #1f77b4; stroke-width: 1.2; stroke-linecap: round\"/>\n",
              "   </g>\n",
              "   <g id=\"line2d_18\">\n",
              "    <defs>\n",
              "     <path id=\"m7484fa3022\" d=\"M -2.4 2.4 \n",
              "L 2.4 -2.4 \n",
              "M -2.4 -2.4 \n",
              "L 2.4 2.4 \n",
              "\" style=\"stroke: #ff7f0e\"/>\n",
              "    </defs>\n",
              "    <g clip-path=\"url(#p21de5a643c)\">\n",
              "     <use xlink:href=\"#m7484fa3022\" x=\"232.613989\" y=\"261.216\" style=\"fill: #ff7f0e; stroke: #ff7f0e\"/>\n",
              "     <use xlink:href=\"#m7484fa3022\" x=\"183.915807\" y=\"261.216\" style=\"fill: #ff7f0e; stroke: #ff7f0e\"/>\n",
              "     <use xlink:href=\"#m7484fa3022\" x=\"193.655443\" y=\"261.216\" style=\"fill: #ff7f0e; stroke: #ff7f0e\"/>\n",
              "     <use xlink:href=\"#m7484fa3022\" x=\"198.525261\" y=\"261.216\" style=\"fill: #ff7f0e; stroke: #ff7f0e\"/>\n",
              "     <use xlink:href=\"#m7484fa3022\" x=\"243.976898\" y=\"261.216\" style=\"fill: #ff7f0e; stroke: #ff7f0e\"/>\n",
              "     <use xlink:href=\"#m7484fa3022\" x=\"213.134716\" y=\"261.216\" style=\"fill: #ff7f0e; stroke: #ff7f0e\"/>\n",
              "     <use xlink:href=\"#m7484fa3022\" x=\"206.641625\" y=\"261.216\" style=\"fill: #ff7f0e; stroke: #ff7f0e\"/>\n",
              "     <use xlink:href=\"#m7484fa3022\" x=\"263.45617\" y=\"261.216\" style=\"fill: #ff7f0e; stroke: #ff7f0e\"/>\n",
              "    </g>\n",
              "   </g>\n",
              "   <g id=\"patch_3\">\n",
              "    <path d=\"M 45.937625 261.216 \n",
              "L 45.937625 19.759945 \n",
              "\" style=\"fill: none; stroke: #262626; stroke-linejoin: miter; stroke-linecap: square\"/>\n",
              "   </g>\n",
              "   <g id=\"patch_4\">\n",
              "    <path d=\"M 62.170352 273.312 \n",
              "L 386.824898 273.312 \n",
              "\" style=\"fill: none; stroke: #262626; stroke-linejoin: miter; stroke-linecap: square\"/>\n",
              "   </g>\n",
              "   <g id=\"legend_1\">\n",
              "    <g id=\"line2d_19\">\n",
              "     <path d=\"M 299.57375 18.338875 \n",
              "L 308.37375 18.338875 \n",
              "L 317.17375 18.338875 \n",
              "\" style=\"fill: none; stroke: #1f77b4; stroke-width: 1.2; stroke-linecap: round\"/>\n",
              "    </g>\n",
              "    <g id=\"text_19\">\n",
              "     <!-- Fitted PDF -->\n",
              "     <g style=\"fill: #262626\" transform=\"translate(324.21375 21.418875) scale(0.088 -0.088)\">\n",
              "      <defs>\n",
              "       <path id=\"ArialMT-46\" d=\"M 525 0 \n",
              "L 525 4581 \n",
              "L 3616 4581 \n",
              "L 3616 4041 \n",
              "L 1131 4041 \n",
              "L 1131 2622 \n",
              "L 3281 2622 \n",
              "L 3281 2081 \n",
              "L 1131 2081 \n",
              "L 1131 0 \n",
              "L 525 0 \n",
              "z\n",
              "\" transform=\"scale(0.015625)\"/>\n",
              "       <path id=\"ArialMT-69\" d=\"M 425 3934 \n",
              "L 425 4581 \n",
              "L 988 4581 \n",
              "L 988 3934 \n",
              "L 425 3934 \n",
              "z\n",
              "M 425 0 \n",
              "L 425 3319 \n",
              "L 988 3319 \n",
              "L 988 0 \n",
              "L 425 0 \n",
              "z\n",
              "\" transform=\"scale(0.015625)\"/>\n",
              "       <path id=\"ArialMT-74\" d=\"M 1650 503 \n",
              "L 1731 6 \n",
              "Q 1494 -44 1306 -44 \n",
              "Q 1000 -44 831 53 \n",
              "Q 663 150 594 308 \n",
              "Q 525 466 525 972 \n",
              "L 525 2881 \n",
              "L 113 2881 \n",
              "L 113 3319 \n",
              "L 525 3319 \n",
              "L 525 4141 \n",
              "L 1084 4478 \n",
              "L 1084 3319 \n",
              "L 1650 3319 \n",
              "L 1650 2881 \n",
              "L 1084 2881 \n",
              "L 1084 941 \n",
              "Q 1084 700 1114 631 \n",
              "Q 1144 563 1211 522 \n",
              "Q 1278 481 1403 481 \n",
              "Q 1497 481 1650 503 \n",
              "z\n",
              "\" transform=\"scale(0.015625)\"/>\n",
              "       <path id=\"ArialMT-64\" d=\"M 2575 0 \n",
              "L 2575 419 \n",
              "Q 2259 -75 1647 -75 \n",
              "Q 1250 -75 917 144 \n",
              "Q 584 363 401 755 \n",
              "Q 219 1147 219 1656 \n",
              "Q 219 2153 384 2558 \n",
              "Q 550 2963 881 3178 \n",
              "Q 1213 3394 1622 3394 \n",
              "Q 1922 3394 2156 3267 \n",
              "Q 2391 3141 2538 2938 \n",
              "L 2538 4581 \n",
              "L 3097 4581 \n",
              "L 3097 0 \n",
              "L 2575 0 \n",
              "z\n",
              "M 797 1656 \n",
              "Q 797 1019 1065 703 \n",
              "Q 1334 388 1700 388 \n",
              "Q 2069 388 2326 689 \n",
              "Q 2584 991 2584 1609 \n",
              "Q 2584 2291 2321 2609 \n",
              "Q 2059 2928 1675 2928 \n",
              "Q 1300 2928 1048 2622 \n",
              "Q 797 2316 797 1656 \n",
              "z\n",
              "\" transform=\"scale(0.015625)\"/>\n",
              "       <path id=\"ArialMT-50\" d=\"M 494 0 \n",
              "L 494 4581 \n",
              "L 2222 4581 \n",
              "Q 2678 4581 2919 4538 \n",
              "Q 3256 4481 3484 4323 \n",
              "Q 3713 4166 3852 3881 \n",
              "Q 3991 3597 3991 3256 \n",
              "Q 3991 2672 3619 2267 \n",
              "Q 3247 1863 2275 1863 \n",
              "L 1100 1863 \n",
              "L 1100 0 \n",
              "L 494 0 \n",
              "z\n",
              "M 1100 2403 \n",
              "L 2284 2403 \n",
              "Q 2872 2403 3119 2622 \n",
              "Q 3366 2841 3366 3238 \n",
              "Q 3366 3525 3220 3729 \n",
              "Q 3075 3934 2838 4000 \n",
              "Q 2684 4041 2272 4041 \n",
              "L 1100 4041 \n",
              "L 1100 2403 \n",
              "z\n",
              "\" transform=\"scale(0.015625)\"/>\n",
              "       <path id=\"ArialMT-44\" d=\"M 494 0 \n",
              "L 494 4581 \n",
              "L 2072 4581 \n",
              "Q 2606 4581 2888 4516 \n",
              "Q 3281 4425 3559 4188 \n",
              "Q 3922 3881 4101 3404 \n",
              "Q 4281 2928 4281 2316 \n",
              "Q 4281 1794 4159 1391 \n",
              "Q 4038 988 3847 723 \n",
              "Q 3656 459 3429 307 \n",
              "Q 3203 156 2883 78 \n",
              "Q 2563 0 2147 0 \n",
              "L 494 0 \n",
              "z\n",
              "M 1100 541 \n",
              "L 2078 541 \n",
              "Q 2531 541 2789 625 \n",
              "Q 3047 709 3200 863 \n",
              "Q 3416 1078 3536 1442 \n",
              "Q 3656 1806 3656 2325 \n",
              "Q 3656 3044 3420 3430 \n",
              "Q 3184 3816 2847 3947 \n",
              "Q 2603 4041 2063 4041 \n",
              "L 1100 4041 \n",
              "L 1100 541 \n",
              "z\n",
              "\" transform=\"scale(0.015625)\"/>\n",
              "      </defs>\n",
              "      <use xlink:href=\"#ArialMT-46\"/>\n",
              "      <use xlink:href=\"#ArialMT-69\" x=\"61.083984\"/>\n",
              "      <use xlink:href=\"#ArialMT-74\" x=\"83.300781\"/>\n",
              "      <use xlink:href=\"#ArialMT-74\" x=\"111.083984\"/>\n",
              "      <use xlink:href=\"#ArialMT-65\" x=\"138.867188\"/>\n",
              "      <use xlink:href=\"#ArialMT-64\" x=\"194.482422\"/>\n",
              "      <use xlink:href=\"#ArialMT-20\" x=\"250.097656\"/>\n",
              "      <use xlink:href=\"#ArialMT-50\" x=\"277.880859\"/>\n",
              "      <use xlink:href=\"#ArialMT-44\" x=\"344.580078\"/>\n",
              "      <use xlink:href=\"#ArialMT-46\" x=\"416.796875\"/>\n",
              "     </g>\n",
              "    </g>\n",
              "    <g id=\"line2d_20\">\n",
              "     <g>\n",
              "      <use xlink:href=\"#m7484fa3022\" x=\"308.37375\" y=\"30.78675\" style=\"fill: #ff7f0e; stroke: #ff7f0e\"/>\n",
              "     </g>\n",
              "    </g>\n",
              "    <g id=\"text_20\">\n",
              "     <!-- Experimental data -->\n",
              "     <g style=\"fill: #262626\" transform=\"translate(324.21375 33.86675) scale(0.088 -0.088)\">\n",
              "      <defs>\n",
              "       <path id=\"ArialMT-45\" d=\"M 506 0 \n",
              "L 506 4581 \n",
              "L 3819 4581 \n",
              "L 3819 4041 \n",
              "L 1113 4041 \n",
              "L 1113 2638 \n",
              "L 3647 2638 \n",
              "L 3647 2100 \n",
              "L 1113 2100 \n",
              "L 1113 541 \n",
              "L 3925 541 \n",
              "L 3925 0 \n",
              "L 506 0 \n",
              "z\n",
              "\" transform=\"scale(0.015625)\"/>\n",
              "       <path id=\"ArialMT-78\" d=\"M 47 0 \n",
              "L 1259 1725 \n",
              "L 138 3319 \n",
              "L 841 3319 \n",
              "L 1350 2541 \n",
              "Q 1494 2319 1581 2169 \n",
              "Q 1719 2375 1834 2534 \n",
              "L 2394 3319 \n",
              "L 3066 3319 \n",
              "L 1919 1756 \n",
              "L 3153 0 \n",
              "L 2463 0 \n",
              "L 1781 1031 \n",
              "L 1600 1309 \n",
              "L 728 0 \n",
              "L 47 0 \n",
              "z\n",
              "\" transform=\"scale(0.015625)\"/>\n",
              "       <path id=\"ArialMT-70\" d=\"M 422 -1272 \n",
              "L 422 3319 \n",
              "L 934 3319 \n",
              "L 934 2888 \n",
              "Q 1116 3141 1344 3267 \n",
              "Q 1572 3394 1897 3394 \n",
              "Q 2322 3394 2647 3175 \n",
              "Q 2972 2956 3137 2557 \n",
              "Q 3303 2159 3303 1684 \n",
              "Q 3303 1175 3120 767 \n",
              "Q 2938 359 2589 142 \n",
              "Q 2241 -75 1856 -75 \n",
              "Q 1575 -75 1351 44 \n",
              "Q 1128 163 984 344 \n",
              "L 984 -1272 \n",
              "L 422 -1272 \n",
              "z\n",
              "M 931 1641 \n",
              "Q 931 1000 1190 694 \n",
              "Q 1450 388 1819 388 \n",
              "Q 2194 388 2461 705 \n",
              "Q 2728 1022 2728 1688 \n",
              "Q 2728 2322 2467 2637 \n",
              "Q 2206 2953 1844 2953 \n",
              "Q 1484 2953 1207 2617 \n",
              "Q 931 2281 931 1641 \n",
              "z\n",
              "\" transform=\"scale(0.015625)\"/>\n",
              "       <path id=\"ArialMT-6d\" d=\"M 422 0 \n",
              "L 422 3319 \n",
              "L 925 3319 \n",
              "L 925 2853 \n",
              "Q 1081 3097 1340 3245 \n",
              "Q 1600 3394 1931 3394 \n",
              "Q 2300 3394 2536 3241 \n",
              "Q 2772 3088 2869 2813 \n",
              "Q 3263 3394 3894 3394 \n",
              "Q 4388 3394 4653 3120 \n",
              "Q 4919 2847 4919 2278 \n",
              "L 4919 0 \n",
              "L 4359 0 \n",
              "L 4359 2091 \n",
              "Q 4359 2428 4304 2576 \n",
              "Q 4250 2725 4106 2815 \n",
              "Q 3963 2906 3769 2906 \n",
              "Q 3419 2906 3187 2673 \n",
              "Q 2956 2441 2956 1928 \n",
              "L 2956 0 \n",
              "L 2394 0 \n",
              "L 2394 2156 \n",
              "Q 2394 2531 2256 2718 \n",
              "Q 2119 2906 1806 2906 \n",
              "Q 1569 2906 1367 2781 \n",
              "Q 1166 2656 1075 2415 \n",
              "Q 984 2175 984 1722 \n",
              "L 984 0 \n",
              "L 422 0 \n",
              "z\n",
              "\" transform=\"scale(0.015625)\"/>\n",
              "       <path id=\"ArialMT-6e\" d=\"M 422 0 \n",
              "L 422 3319 \n",
              "L 928 3319 \n",
              "L 928 2847 \n",
              "Q 1294 3394 1984 3394 \n",
              "Q 2284 3394 2536 3286 \n",
              "Q 2788 3178 2913 3003 \n",
              "Q 3038 2828 3088 2588 \n",
              "Q 3119 2431 3119 2041 \n",
              "L 3119 0 \n",
              "L 2556 0 \n",
              "L 2556 2019 \n",
              "Q 2556 2363 2490 2533 \n",
              "Q 2425 2703 2258 2804 \n",
              "Q 2091 2906 1866 2906 \n",
              "Q 1506 2906 1245 2678 \n",
              "Q 984 2450 984 1813 \n",
              "L 984 0 \n",
              "L 422 0 \n",
              "z\n",
              "\" transform=\"scale(0.015625)\"/>\n",
              "       <path id=\"ArialMT-6c\" d=\"M 409 0 \n",
              "L 409 4581 \n",
              "L 972 4581 \n",
              "L 972 0 \n",
              "L 409 0 \n",
              "z\n",
              "\" transform=\"scale(0.015625)\"/>\n",
              "      </defs>\n",
              "      <use xlink:href=\"#ArialMT-45\"/>\n",
              "      <use xlink:href=\"#ArialMT-78\" x=\"66.699219\"/>\n",
              "      <use xlink:href=\"#ArialMT-70\" x=\"116.699219\"/>\n",
              "      <use xlink:href=\"#ArialMT-65\" x=\"172.314453\"/>\n",
              "      <use xlink:href=\"#ArialMT-72\" x=\"227.929688\"/>\n",
              "      <use xlink:href=\"#ArialMT-69\" x=\"261.230469\"/>\n",
              "      <use xlink:href=\"#ArialMT-6d\" x=\"283.447266\"/>\n",
              "      <use xlink:href=\"#ArialMT-65\" x=\"366.748047\"/>\n",
              "      <use xlink:href=\"#ArialMT-6e\" x=\"422.363281\"/>\n",
              "      <use xlink:href=\"#ArialMT-74\" x=\"477.978516\"/>\n",
              "      <use xlink:href=\"#ArialMT-61\" x=\"505.761719\"/>\n",
              "      <use xlink:href=\"#ArialMT-6c\" x=\"561.376953\"/>\n",
              "      <use xlink:href=\"#ArialMT-20\" x=\"583.59375\"/>\n",
              "      <use xlink:href=\"#ArialMT-64\" x=\"611.376953\"/>\n",
              "      <use xlink:href=\"#ArialMT-61\" x=\"666.992188\"/>\n",
              "      <use xlink:href=\"#ArialMT-74\" x=\"722.607422\"/>\n",
              "      <use xlink:href=\"#ArialMT-61\" x=\"750.390625\"/>\n",
              "     </g>\n",
              "    </g>\n",
              "   </g>\n",
              "  </g>\n",
              " </g>\n",
              " <defs>\n",
              "  <clipPath id=\"p21de5a643c\">\n",
              "   <rect x=\"45.937625\" y=\"7.2\" width=\"357.12\" height=\"266.112\"/>\n",
              "  </clipPath>\n",
              " </defs>\n",
              "</svg>\n"
            ],
            "text/plain": [
              "<Figure size 640x480 with 1 Axes>"
            ]
          },
          "metadata": {},
          "output_type": "display_data"
        }
      ],
      "source": [
        "fig, ax = plt.subplots()\n",
        "ts = np.linspace(0.0, 20.0, 100)\n",
        "ax.plot(\n",
        "    ts,\n",
        "    T.pdf(ts),\n",
        "    label=\"Fitted PDF\"\n",
        ")\n",
        "ax.plot(\n",
        "    time_to_fail_data,\n",
        "    np.zeros_like(time_to_fail_data),\n",
        "    \"x\",\n",
        "    label=\"Experimental data\"\n",
        ")\n",
        "ax.set_xlabel(r\"$t$ (years)\")\n",
        "ax.set_ylabel(r\"$p(t)$\")\n",
        "plt.legend(loc=\"best\", frameon=False)\n",
        "sns.despine(trim=True);"
      ]
    },
    {
      "cell_type": "markdown",
      "metadata": {
        "id": "MzY4X9Rl_7ZR"
      },
      "source": [
        "Now you have to answer a series of questions about the random variable $T$ that we just fitted.\n",
        "\n",
        "A. Find the mean fail time and its variance.\n",
        "Hint: Do not integrate anything by hand. Just use the functionality of ``scipy.stats``."
      ]
    },
    {
      "cell_type": "code",
      "execution_count": null,
      "metadata": {
        "id": "405jo0DJ_7ZR"
      },
      "outputs": [],
      "source": [
        "# Your code here\n",
        "t_mean = 0.0 # Change me\n",
        "t_var = 0.0 # Change me\n",
        "print(f\"E[T] = {t_mean:.2f}\")\n",
        "print(f\"V[T] = {t_var:.2f}\")"
      ]
    },
    {
      "cell_type": "markdown",
      "metadata": {
        "id": "DI6J-6Pw_7ZR"
      },
      "source": [
        "B. Plot the cumulative distribution function $F(t) = P(T\\le t)$ of $T$."
      ]
    },
    {
      "cell_type": "code",
      "execution_count": null,
      "metadata": {
        "id": "XDSEFexC_7ZR"
      },
      "outputs": [],
      "source": [
        "# Your code here"
      ]
    },
    {
      "cell_type": "markdown",
      "metadata": {
        "id": "fYO3Vk8f_7ZR"
      },
      "source": [
        "C. Plot the probability that gear survives for more than $t$ as a function of $t$.\n",
        "That is, plot the function:\n",
        "\n",
        "$$\n",
        "S(t) = p(T > t).\n",
        "$$\n",
        "\n",
        "Hint: First connect $S(t)$ to the cumulative distribution function $F(t)$ of $T$."
      ]
    },
    {
      "cell_type": "code",
      "execution_count": null,
      "metadata": {
        "id": "wWhWBiri_7ZR"
      },
      "outputs": [],
      "source": [
        "# Your code here"
      ]
    },
    {
      "cell_type": "markdown",
      "metadata": {
        "id": "CJ3ndW5j_7ZR"
      },
      "source": [
        "D. Find the probability that the gear lasts anywhere between 8 and 10 years."
      ]
    },
    {
      "cell_type": "code",
      "execution_count": null,
      "metadata": {
        "id": "lXnFDbx1_7ZR"
      },
      "outputs": [],
      "source": [
        "# Your code here"
      ]
    },
    {
      "cell_type": "markdown",
      "metadata": {
        "id": "4Wv9kV79_7ZS"
      },
      "source": [
        "E. Find the time $t^*$ such that the probability that the gear fails before $t^*$ is $0.01$."
      ]
    },
    {
      "cell_type": "code",
      "execution_count": null,
      "metadata": {
        "id": "yqXJSsa-_7ZS"
      },
      "outputs": [],
      "source": [
        "\n"
      ]
    }
  ],
  "metadata": {
    "celltoolbar": "Tags",
    "kernelspec": {
      "display_name": "Python 3 (ipykernel)",
      "language": "python",
      "name": "python3"
    },
    "language_info": {
      "codemirror_mode": {
        "name": "ipython",
        "version": 3
      },
      "file_extension": ".py",
      "mimetype": "text/x-python",
      "name": "python",
      "nbconvert_exporter": "python",
      "pygments_lexer": "ipython3",
      "version": "3.11.3"
    },
    "colab": {
      "provenance": []
    }
  },
  "nbformat": 4,
  "nbformat_minor": 0
}